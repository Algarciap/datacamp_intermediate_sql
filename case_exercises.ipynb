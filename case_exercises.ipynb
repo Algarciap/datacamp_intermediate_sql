{
 "cells": [
  {
   "cell_type": "markdown",
   "metadata": {},
   "source": [
    "# EXERCISE 1"
   ]
  },
  {
   "cell_type": "markdown",
   "metadata": {},
   "source": [
    "Do the number of soccer matches played in a given European country differ across seasons? We will use the European Soccer Database to answer this question.\n",
    "\n",
    "You will examine the number of matches played in 3 seasons within each country listed in the database. \n",
    "\n",
    "This is much easier to explore with each season's matches in separate columns. Using the country and unfiltered match table, you will count the number of matches played in each country during the 2012/2013, 2013/2014, and 2014/2015 match seasons."
   ]
  },
  {
   "cell_type": "code",
   "execution_count": null,
   "metadata": {},
   "outputs": [],
   "source": [
    "SELECT \n",
    "\tc.name AS country,\n",
    "    # Count matches in each of the 3 seasons\n",
    "\tCOUNT(CASE WHEN m.season = '2012/2013' THEN m.id END) AS matches_2012_2013,\n",
    "\tCOUNT(CASE WHEN m.season = '2013/2014' THEN m.id END) AS matches_2013_2014,\n",
    "\tCOUNT(CASE WHEN m.season = '2015/2016' THEN m.id END) AS matches_2014_2015\n",
    "FROM country AS c\n",
    "LEFT JOIN match AS m\n",
    "ON c.id = m.country_id\n",
    "    # Group by country name alias\n",
    "GROUP BY country;"
   ]
  },
  {
   "cell_type": "markdown",
   "metadata": {},
   "source": [
    "# EXERCISE 2"
   ]
  },
  {
   "cell_type": "markdown",
   "metadata": {},
   "source": [
    "In R or Python, you have the ability to calculate a SUM of logical values (i.e., TRUE/FALSE) directly. \n",
    "\n",
    "In SQL, you have to convert these values into 1 and 0 before calculating a sum. This can be done using a CASE statement.\n",
    "\n",
    "There's one key difference when using SUM to aggregate logical values compared to using COUNT in the previous exercise --\n",
    "\n",
    "Your goal here is to use the country and match table to determine the total number of matches won by the home team in each country during the 2012/2013, 2013/2014, and 2014/2015 seasons."
   ]
  },
  {
   "cell_type": "code",
   "execution_count": null,
   "metadata": {},
   "outputs": [],
   "source": [
    "SELECT \n",
    "\tc.name AS country,\n",
    "    # Sum the total records in each season where the home team won\n",
    "\tSUM(CASE WHEN m.season = '2012/2013' AND m.home_goal > m.away_goal \n",
    "        THEN 1 ELSE 0 END) AS matches_2012_2013,\n",
    " \tSUM(CASE WHEN m.season = '2013/2014' AND m.home_goal > m.away_goal \n",
    "        THEN 1 ELSE 0 END) AS matches_2013_2014,\n",
    "\tSUM(CASE WHEN m.season = '2014/2015' AND m.home_goal > m.away_goal \n",
    "        THEN 1 ELSE 0 END) AS matches_2014_2015\n",
    "FROM country AS c\n",
    "LEFT JOIN match AS m\n",
    "ON c.id = m.country_id\n",
    "    # Group by country name alias\n",
    "GROUP BY country;"
   ]
  },
  {
   "cell_type": "markdown",
   "metadata": {},
   "source": [
    "# EXERCISE 3"
   ]
  },
  {
   "cell_type": "markdown",
   "metadata": {},
   "source": [
    "Create 3 CASE statements to COUNT the total number of home team wins, away team wins, and ties, which will allow you to examine the total number of records."
   ]
  },
  {
   "cell_type": "code",
   "execution_count": null,
   "metadata": {},
   "outputs": [],
   "source": [
    "SELECT \n",
    "    c.name AS country,\n",
    "    # Count the home wins, away wins, and ties in each country\n",
    "\tCOUNT(CASE WHEN m.home_goal > m.away_goal THEN m.id \n",
    "        END) AS home_wins,\n",
    "\tCOUNT(CASE WHEN m.home_goal < m.away_goal THEN m.id \n",
    "        END) AS away_wins,\n",
    "\tCOUNT(CASE WHEN m.home_goal = m.away_goal THEN m.id \n",
    "        END) AS ties\n",
    "FROM country AS c\n",
    "LEFT JOIN matches AS m\n",
    "ON c.id = m.country_id\n",
    "GROUP BY country;"
   ]
  },
  {
   "cell_type": "markdown",
   "metadata": {},
   "source": [
    "# EXERCISE 4"
   ]
  },
  {
   "cell_type": "markdown",
   "metadata": {},
   "source": [
    "Your task is to examine the number of wins, losses, and ties in each country. The matches table is filtered to include all matches from the 2013/2014 and 2014/2015 seasons."
   ]
  },
  {
   "cell_type": "code",
   "execution_count": null,
   "metadata": {},
   "outputs": [],
   "source": [
    "SELECT \n",
    "\tc.name AS country,\n",
    "    # Calculate the percentage of tied games in each season\n",
    "\tAVG(CASE WHEN m.season='2013/2014' AND m.home_goal = m.away_goal THEN 1\n",
    "\t\t\tWHEN m.season='2013/2014' AND m.home_goal != m.away_goal THEN 0\n",
    "\t\t\tEND) AS ties_2013_2014,\n",
    "\tAVG(CASE WHEN m.season='2014/2015' AND m.home_goal = m.away_goal THEN 1\n",
    "\t\t\tWHEN m.season='2014/2015' AND m.home_goal  != m.away_goal THEN 0\n",
    "\t\t\tEND) AS ties_2014_2015\n",
    "FROM country AS c\n",
    "LEFT JOIN matches AS m\n",
    "ON c.id = m.country_id\n",
    "GROUP BY country;"
   ]
  },
  {
   "cell_type": "markdown",
   "metadata": {},
   "source": [
    "# EXERCISE 5"
   ]
  },
  {
   "cell_type": "markdown",
   "metadata": {},
   "source": [
    "Your task is to examine the number of wins, losses, and ties in each country. The matches table is filtered to include all matches from the 2013/2014 and 2014/2015 seasons. \n",
    "Round the percentage tied games to 2 decimal points."
   ]
  },
  {
   "cell_type": "code",
   "execution_count": null,
   "metadata": {},
   "outputs": [],
   "source": [
    "SELECT \n",
    "\tc.name AS country,\n",
    "    # Round the percentage of tied games to 2 decimal points\n",
    "\tROUND(AVG(CASE WHEN m.season='2013/2014' AND m.home_goal = m.away_goal THEN 1\n",
    "\t\t\t WHEN m.season='2013/2014' AND m.home_goal != m.away_goal THEN 0\n",
    "\t\t\t END),2) AS pct_ties_2013_2014,\n",
    "\tROUND(AVG(CASE WHEN m.season='2014/2015' AND m.home_goal = m.away_goal THEN 1\n",
    "\t\t\t WHEN m.season='2014/2015' AND m.home_goal != m.away_goal THEN 0\n",
    "\t\t\t END),2) AS pct_ties_2014_2015\n",
    "FROM country AS c\n",
    "LEFT JOIN matches AS m\n",
    "ON c.id = m.country_id\n",
    "GROUP BY country;"
   ]
  }
 ],
 "metadata": {
  "language_info": {
   "name": "python"
  },
  "orig_nbformat": 4
 },
 "nbformat": 4,
 "nbformat_minor": 2
}
